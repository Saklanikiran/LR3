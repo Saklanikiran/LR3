{
 "cells": [
  {
   "cell_type": "markdown",
   "id": "8dd3a3f5-5980-442a-acc9-665894f0f138",
   "metadata": {},
   "source": [
    "# Ans : 1"
   ]
  },
  {
   "cell_type": "code",
   "execution_count": null,
   "id": "1636181a-2b86-4eaf-984f-949f5456ad35",
   "metadata": {},
   "outputs": [],
   "source": [
    "'''\n",
    "Precision: The ratio of true positives (TP) to the sum of true positives and false positives (FP). It measures the accuracy of positive predictions.\n",
    "\n",
    "Recall: The ratio of true positives to the sum of true positives and false negatives (FN). It measures the ability to capture all actual positive instances.\n",
    "\n",
    "'''"
   ]
  },
  {
   "cell_type": "markdown",
   "id": "66688163-52ce-4f8b-81ca-3cf80b07535d",
   "metadata": {},
   "source": [
    "# Ans : 2"
   ]
  },
  {
   "cell_type": "code",
   "execution_count": null,
   "id": "dc0af75a-12c9-481e-bda4-a8761407245f",
   "metadata": {},
   "outputs": [],
   "source": [
    "'''\n",
    "F1 Score: The harmonic mean of precision and recall. It balances the two metrics and is useful when you need a single metric to evaluate the model's performance.\n",
    "\n",
    "Difference: Precision and recall measure specific aspects of performance, while the F1 score provides a single metric that balances both.\n",
    "\n",
    "'''"
   ]
  },
  {
   "cell_type": "markdown",
   "id": "226ac91c-7218-4e40-be60-aec6248a5fa7",
   "metadata": {},
   "source": [
    "# Ans : 3"
   ]
  },
  {
   "cell_type": "code",
   "execution_count": null,
   "id": "f645608a-7c21-4f77-b268-d02b6c85b628",
   "metadata": {},
   "outputs": [],
   "source": [
    "'''\n",
    "ROC (Receiver Operating Characteristic) Curve: A graphical plot that shows the performance of a classification model at all classification thresholds by plotting the true positive rate (recall) against the false positive rate (1-specificity).\n",
    "AUC (Area Under the Curve): The area under the ROC curve. It measures the model's ability to distinguish between classes, with a higher value indicating better performance.\n",
    "\n",
    "'''"
   ]
  },
  {
   "cell_type": "markdown",
   "id": "f58563c1-54c7-460d-a83d-7077d11bb6ea",
   "metadata": {},
   "source": [
    "# Ans : 4"
   ]
  },
  {
   "cell_type": "code",
   "execution_count": null,
   "id": "ef626ff2-fe18-4558-8167-f62047c4c5db",
   "metadata": {},
   "outputs": [],
   "source": [
    "'''\n"
   ]
  },
  {
   "cell_type": "markdown",
   "id": "4b6d9795-b818-4bdc-91fa-0efb0e9c2b08",
   "metadata": {},
   "source": [
    "# Ans : 5"
   ]
  },
  {
   "cell_type": "code",
   "execution_count": null,
   "id": "3f37de89-7456-4944-bbb6-3977c3c640e6",
   "metadata": {},
   "outputs": [],
   "source": []
  },
  {
   "cell_type": "markdown",
   "id": "191dbdd7-afd1-4a7f-9e5b-f2f5dfb8f1e9",
   "metadata": {},
   "source": [
    "# Ans : 6"
   ]
  },
  {
   "cell_type": "code",
   "execution_count": null,
   "id": "62a9dfc4-c4c1-4733-9eaa-8c6088a0d3f3",
   "metadata": {},
   "outputs": [],
   "source": []
  },
  {
   "cell_type": "markdown",
   "id": "6361ae29-d499-4d04-a2d1-357b8929710d",
   "metadata": {},
   "source": [
    "# Ans : 7"
   ]
  },
  {
   "cell_type": "code",
   "execution_count": null,
   "id": "11eb1767-5928-4ef6-8bdd-9c9af2e6230f",
   "metadata": {},
   "outputs": [],
   "source": []
  },
  {
   "cell_type": "markdown",
   "id": "90d1847b-dcb7-4026-b338-2d2061f81db1",
   "metadata": {},
   "source": [
    "# Ans : 8"
   ]
  },
  {
   "cell_type": "code",
   "execution_count": null,
   "id": "f799bc1a-95c8-4107-8e1b-67bb7f3b25a8",
   "metadata": {},
   "outputs": [],
   "source": []
  },
  {
   "cell_type": "markdown",
   "id": "ffc950e5-02b6-433d-a8d3-f556d21b852f",
   "metadata": {},
   "source": [
    "# Ans : 9"
   ]
  },
  {
   "cell_type": "code",
   "execution_count": null,
   "id": "e246276a-3e8c-4a0e-a195-832701fe5583",
   "metadata": {},
   "outputs": [],
   "source": []
  }
 ],
 "metadata": {
  "kernelspec": {
   "display_name": "Python 3 (ipykernel)",
   "language": "python",
   "name": "python3"
  },
  "language_info": {
   "codemirror_mode": {
    "name": "ipython",
    "version": 3
   },
   "file_extension": ".py",
   "mimetype": "text/x-python",
   "name": "python",
   "nbconvert_exporter": "python",
   "pygments_lexer": "ipython3",
   "version": "3.10.8"
  }
 },
 "nbformat": 4,
 "nbformat_minor": 5
}
